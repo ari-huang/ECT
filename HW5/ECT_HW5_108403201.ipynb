{
 "cells": [
  {
   "cell_type": "code",
   "execution_count": 1,
   "metadata": {},
   "outputs": [],
   "source": [
    "import pandas as pd\n",
    "import numpy as np\n",
    "import warnings\n",
    "import scipy.stats as ttest_rel\n",
    "\n",
    "from numpy import mean\n",
    "from numpy import std\n",
    "from sklearn import datasets\n",
    "from sklearn.model_selection import train_test_split,cross_val_score , KFold\n",
    "from sklearn.neighbors import KNeighborsClassifier\n",
    "from sklearn.linear_model import LogisticRegression\n",
    "from sklearn.preprocessing import LabelEncoder\n",
    "from sklearn.svm import SVC\n",
    "from scipy import stats\n",
    "warnings.filterwarnings('ignore')"
   ]
  },
  {
   "cell_type": "code",
   "execution_count": 2,
   "metadata": {},
   "outputs": [],
   "source": [
    "data = pd.read_csv(\"customer_churn.csv\")\n",
    "customer_churn = pd.DataFrame(data)\n"
   ]
  },
  {
   "cell_type": "code",
   "execution_count": 3,
   "metadata": {},
   "outputs": [
    {
     "name": "stdout",
     "output_type": "stream",
     "text": [
      "<class 'pandas.core.frame.DataFrame'>\n",
      "RangeIndex: 5640 entries, 0 to 5639\n",
      "Data columns (total 20 columns):\n",
      "CustomerID                     5640 non-null int64\n",
      "Churn                          5640 non-null int64\n",
      "Tenure                         5376 non-null float64\n",
      "PreferredLoginDevice           5640 non-null object\n",
      "CityTier                       5640 non-null int64\n",
      "WarehouseToHome                5389 non-null float64\n",
      "PreferredPaymentMode           5640 non-null object\n",
      "Gender                         5640 non-null object\n",
      "HourSpendOnApp                 5385 non-null float64\n",
      "NumberOfDeviceRegistered       5640 non-null int64\n",
      "PreferedOrderCat               5640 non-null object\n",
      "SatisfactionScore              5640 non-null int64\n",
      "MaritalStatus                  5640 non-null object\n",
      "NumberOfAddress                5640 non-null int64\n",
      "Complain                       5640 non-null int64\n",
      "OrderAmountHikeFromlastYear    5375 non-null float64\n",
      "CouponUsed                     5384 non-null float64\n",
      "OrderCount                     5382 non-null float64\n",
      "DaySinceLastOrder              5333 non-null float64\n",
      "CashbackAmount                 5640 non-null int64\n",
      "dtypes: float64(7), int64(8), object(5)\n",
      "memory usage: 881.3+ KB\n"
     ]
    }
   ],
   "source": [
    "customer_churn.info()"
   ]
  },
  {
   "cell_type": "code",
   "execution_count": 4,
   "metadata": {},
   "outputs": [],
   "source": [
    "#1. 針對 churn 欄位使用 Stratified sampling 從原本的資料集中取 60%的資料\n",
    "\n",
    "customer_churn_stratified = customer_churn.groupby('Churn',group_keys=False).apply(lambda x: x.sample(frac=0.6))"
   ]
  },
  {
   "cell_type": "code",
   "execution_count": 5,
   "metadata": {},
   "outputs": [
    {
     "name": "stdout",
     "output_type": "stream",
     "text": [
      "<class 'pandas.core.frame.DataFrame'>\n",
      "Int64Index: 3384 entries, 1804 to 3212\n",
      "Data columns (total 20 columns):\n",
      "CustomerID                     3384 non-null int64\n",
      "Churn                          3384 non-null int64\n",
      "Tenure                         3216 non-null float64\n",
      "PreferredLoginDevice           3384 non-null object\n",
      "CityTier                       3384 non-null int64\n",
      "WarehouseToHome                3249 non-null float64\n",
      "PreferredPaymentMode           3384 non-null object\n",
      "Gender                         3384 non-null object\n",
      "HourSpendOnApp                 3231 non-null float64\n",
      "NumberOfDeviceRegistered       3384 non-null int64\n",
      "PreferedOrderCat               3384 non-null object\n",
      "SatisfactionScore              3384 non-null int64\n",
      "MaritalStatus                  3384 non-null object\n",
      "NumberOfAddress                3384 non-null int64\n",
      "Complain                       3384 non-null int64\n",
      "OrderAmountHikeFromlastYear    3230 non-null float64\n",
      "CouponUsed                     3235 non-null float64\n",
      "OrderCount                     3235 non-null float64\n",
      "DaySinceLastOrder              3199 non-null float64\n",
      "CashbackAmount                 3384 non-null int64\n",
      "dtypes: float64(7), int64(8), object(5)\n",
      "memory usage: 555.2+ KB\n"
     ]
    }
   ],
   "source": [
    "#2. 列出取樣後各類別的資料數量\n",
    "customer_churn_stratified.info()"
   ]
  },
  {
   "cell_type": "code",
   "execution_count": 6,
   "metadata": {},
   "outputs": [],
   "source": [
    "#3. 資料前處理，填補空值\n",
    "\n",
    "customer_churn_stratified['Tenure'].fillna(customer_churn_stratified['Tenure'].mean(),inplace=True)\n",
    "customer_churn_stratified['WarehouseToHome'].fillna(customer_churn_stratified['WarehouseToHome'].mean(),inplace=True)\n",
    "customer_churn_stratified['HourSpendOnApp'].fillna(customer_churn_stratified['HourSpendOnApp'].mean(),inplace=True)\n",
    "customer_churn_stratified['OrderAmountHikeFromlastYear'].fillna(customer_churn_stratified['OrderAmountHikeFromlastYear'].mean(),inplace=True)\n",
    "customer_churn_stratified['CouponUsed'].fillna(customer_churn_stratified['CouponUsed'].mean(),inplace=True)\n",
    "customer_churn_stratified['OrderCount'].fillna(customer_churn_stratified['OrderCount'].mean(),inplace=True)\n",
    "customer_churn_stratified['DaySinceLastOrder'].fillna(customer_churn_stratified['DaySinceLastOrder'].mean(),inplace=True)\n"
   ]
  },
  {
   "cell_type": "code",
   "execution_count": 7,
   "metadata": {},
   "outputs": [],
   "source": [
    "#3. 資料前處理，將nominal轉為numeric\n",
    "\n",
    "labelencoder = LabelEncoder()\n",
    "customer_churn_stratified['PreferredLoginDevice'] = labelencoder.fit_transform(customer_churn_stratified['PreferredLoginDevice'])\n",
    "customer_churn_stratified['PreferredPaymentMode'] = labelencoder.fit_transform(customer_churn_stratified['PreferredPaymentMode'])\n",
    "customer_churn_stratified['Gender'] = labelencoder.fit_transform(customer_churn_stratified['Gender'])\n",
    "customer_churn_stratified['PreferedOrderCat'] = labelencoder.fit_transform(customer_churn_stratified['PreferedOrderCat'])\n",
    "customer_churn_stratified['MaritalStatus'] = labelencoder.fit_transform(customer_churn_stratified['MaritalStatus'])"
   ]
  },
  {
   "cell_type": "code",
   "execution_count": 8,
   "metadata": {},
   "outputs": [],
   "source": [
    "#3. 以 10 folds cross-validation 建立 Logistic Regression 及 SVM 模型\n",
    "\n",
    "X = customer_churn_stratified.drop(['CustomerID','Churn'],axis=1)\n",
    "y = customer_churn_stratified['Churn']\n",
    "\n",
    "logisticmodel = LogisticRegression()\n",
    "svm = SVC()\n",
    "\n",
    "LogisticRegression_Score = cross_val_score(logisticmodel, X, y, cv=10, scoring='accuracy')\n",
    "SVM_Score = cross_val_score(svm,X,y,cv=10,scoring='accuracy')\n",
    "\n",
    "\n",
    "\n"
   ]
  },
  {
   "cell_type": "code",
   "execution_count": 9,
   "metadata": {},
   "outputs": [
    {
     "name": "stdout",
     "output_type": "stream",
     "text": [
      "[0.85545723 0.86725664 0.89380531 0.85840708 0.88757396 0.87869822\n",
      " 0.87278107 0.86982249 0.86094675 0.85207101]\n",
      "Logistic Regression 平均 Accuracy:\n",
      "0.8696819744811577\n",
      "-------------------------\n",
      "SVM 平均 Accuracy:\n",
      "0.8312649456284582\n"
     ]
    }
   ],
   "source": [
    "# 4. 針對測試資料印出兩個模型的平均 Accuracy\n",
    "\n",
    "print(LogisticRegression_Score)\n",
    "print('Logistic Regression 平均 Accuracy:')\n",
    "print(LogisticRegression_Score.mean())\n",
    "print('-'*25)\n",
    "print('SVM 平均 Accuracy:')\n",
    "print(SVM_Score.mean())"
   ]
  },
  {
   "cell_type": "code",
   "execution_count": 10,
   "metadata": {},
   "outputs": [],
   "source": [
    "#5. 重複 1~4 題 30 次，並印出兩種模型最終的平均 Accuracy\n",
    "\n",
    "k_range = range(1,31)\n",
    "logistic_scores = []\n",
    "svm_scores = []\n",
    "for k_number in k_range:\n",
    "    customer_churn_stratified = customer_churn.groupby('Churn',group_keys=False).apply(lambda x: x.sample(frac=0.6))\n",
    "    \n",
    "    customer_churn_stratified['Tenure'].fillna(customer_churn_stratified['Tenure'].mean(),inplace=True)\n",
    "    customer_churn_stratified['WarehouseToHome'].fillna(customer_churn_stratified['WarehouseToHome'].mean(),inplace=True)\n",
    "    customer_churn_stratified['HourSpendOnApp'].fillna(customer_churn_stratified['HourSpendOnApp'].mean(),inplace=True)\n",
    "    customer_churn_stratified['OrderAmountHikeFromlastYear'].fillna(customer_churn_stratified['OrderAmountHikeFromlastYear'].mean(),inplace=True)\n",
    "    customer_churn_stratified['CouponUsed'].fillna(customer_churn_stratified['CouponUsed'].mean(),inplace=True)\n",
    "    customer_churn_stratified['OrderCount'].fillna(customer_churn_stratified['OrderCount'].mean(),inplace=True)\n",
    "    customer_churn_stratified['DaySinceLastOrder'].fillna(customer_churn_stratified['DaySinceLastOrder'].mean(),inplace=True)\n",
    "   \n",
    "    labelencoder = LabelEncoder()\n",
    "    customer_churn_stratified['PreferredLoginDevice'] = labelencoder.fit_transform(customer_churn_stratified['PreferredLoginDevice'])\n",
    "    customer_churn_stratified['PreferredPaymentMode'] = labelencoder.fit_transform(customer_churn_stratified['PreferredPaymentMode'])\n",
    "    customer_churn_stratified['Gender'] = labelencoder.fit_transform(customer_churn_stratified['Gender'])\n",
    "    customer_churn_stratified['PreferedOrderCat'] = labelencoder.fit_transform(customer_churn_stratified['PreferedOrderCat'])\n",
    "    customer_churn_stratified['MaritalStatus'] = labelencoder.fit_transform(customer_churn_stratified['MaritalStatus'])\n",
    "    \n",
    "    X = customer_churn_stratified.drop(['CustomerID','Churn'],axis=1)\n",
    "    y = customer_churn_stratified['Churn']\n",
    "    \n",
    "    logisticmodel = LogisticRegression(C=k_number,random_state=k_number)\n",
    "    svm = SVC(C=k_number,random_state=k_number)\n",
    "   \n",
    "    LogisticRegression_Scores = cross_val_score(logisticmodel, X, y, cv=10, scoring='accuracy')\n",
    "    SVM_Scores = cross_val_score(svm,X,y,cv=10,scoring='accuracy')\n",
    "   \n",
    "    logistic_scores.append(LogisticRegression_Scores.mean())\n",
    "    svm_scores.append(SVM_Scores.mean())\n",
    "    \n",
    "\n"
   ]
  },
  {
   "cell_type": "code",
   "execution_count": 11,
   "metadata": {},
   "outputs": [
    {
     "name": "stdout",
     "output_type": "stream",
     "text": [
      "Logistic Regression 平均 Accuracy:\n",
      "0.871216305062459\n",
      "-------------------------\n",
      "SVM 平均 Accuracy:\n",
      "0.831639320893916\n"
     ]
    }
   ],
   "source": [
    "import numpy as np\n",
    "\n",
    "logistic_scores= np.array(logistic_scores)\n",
    "svm_scores= np.array(svm_scores)\n",
    "\n",
    "print('Logistic Regression 平均 Accuracy:')\n",
    "print(logistic_scores.mean())\n",
    "print('-'*25)\n",
    "print('SVM 平均 Accuracy:')\n",
    "print(svm_scores.mean())"
   ]
  },
  {
   "cell_type": "code",
   "execution_count": 12,
   "metadata": {},
   "outputs": [
    {
     "name": "stdout",
     "output_type": "stream",
     "text": [
      "(0.9809568524360657, 0.8503914475440979)\n",
      "(0.528870701789856, 1.0968034480640654e-08)\n",
      "兩種模型皆為常態分配，可使用paired t-test進行檢定\n",
      "--------------------------------------------------\n",
      "Ttest_relResult(statistic=57.234575680449254, pvalue=2.2179924106917435e-31)\n",
      "p-value>0.5，無法拒絕虛無假設，兩種模型做出來的平均準確率結果相似\n"
     ]
    }
   ],
   "source": [
    "#6. 根據模型於 30 次 10 folds cross-validation 的 Accuracy，以 paired t-test 比較兩種模型，並說明結論\n",
    "\n",
    "print(stats.shapiro(logistic_scores))\n",
    "print(stats.shapiro(svm_scores))\n",
    "print(\"兩種模型皆為常態分配，可使用paired t-test進行檢定\")\n",
    "print('-'*50)\n",
    "print(stats.ttest_rel(logistic_scores,svm_scores))\n",
    "print('p-value>0.5，無法拒絕虛無假設，兩種模型做出來的平均準確率結果相似')"
   ]
  },
  {
   "cell_type": "code",
   "execution_count": null,
   "metadata": {},
   "outputs": [],
   "source": []
  },
  {
   "cell_type": "code",
   "execution_count": null,
   "metadata": {},
   "outputs": [],
   "source": []
  }
 ],
 "metadata": {
  "kernelspec": {
   "display_name": "Python 3",
   "language": "python",
   "name": "python3"
  },
  "language_info": {
   "codemirror_mode": {
    "name": "ipython",
    "version": 3
   },
   "file_extension": ".py",
   "mimetype": "text/x-python",
   "name": "python",
   "nbconvert_exporter": "python",
   "pygments_lexer": "ipython3",
   "version": "3.7.3"
  }
 },
 "nbformat": 4,
 "nbformat_minor": 2
}
