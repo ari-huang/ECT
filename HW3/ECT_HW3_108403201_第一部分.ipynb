{
 "cells": [
  {
   "cell_type": "code",
   "execution_count": 1,
   "metadata": {},
   "outputs": [],
   "source": [
    "import pandas as pd"
   ]
  },
  {
   "cell_type": "code",
   "execution_count": 2,
   "metadata": {},
   "outputs": [],
   "source": [
    "#1. 載入 insurance.csv 為 pandas DataFrame 格式\n",
    "insurance = pd.read_csv(\"insurance.csv\")\n",
    "data = pd.DataFrame(insurance)\n"
   ]
  },
  {
   "cell_type": "code",
   "execution_count": 3,
   "metadata": {},
   "outputs": [],
   "source": [
    "#2. 資料前處理 (e.g., feature encoding)\n",
    "\"\"\"\n",
    "將nominal欄位資料轉為numeric\n",
    "\"\"\"\n",
    "from sklearn.preprocessing import LabelEncoder\n",
    "labelencoder = LabelEncoder()\n",
    "data['sex'] = labelencoder.fit_transform(data['sex'])\n",
    "data['smoker'] = labelencoder.fit_transform(data['smoker'])\n",
    "data['region']=labelencoder.fit_transform(data['region'])\n"
   ]
  },
  {
   "cell_type": "code",
   "execution_count": 4,
   "metadata": {},
   "outputs": [],
   "source": [
    "#3. 將資料集劃分為訓練集與測試集\n",
    "from sklearn.model_selection import train_test_split\n",
    "X=data.drop(['charges'], axis=1)\n",
    "y=data['charges']\n",
    "\n",
    "X_train, X_test, y_train, y_test = train_test_split(X,y, test_size= 0.25,random_state=12)\n"
   ]
  },
  {
   "cell_type": "code",
   "execution_count": 5,
   "metadata": {},
   "outputs": [],
   "source": [
    "#4. 建立並訓練以下三種迴歸模型：Linear Regression、SVM (SVR)、Decision Tree\n",
    "\n",
    "from sklearn.linear_model import LinearRegression\n",
    "reg = LinearRegression()\n",
    "reg.fit(X_train, y_train)\n",
    "y_pred = reg.predict(X_test)\n",
    "\n",
    "\n",
    "from sklearn import svm\n",
    "clf = svm.SVR(kernel = 'linear', C = 10) \n",
    "clf.fit(X_train, y_train.astype('int')) \n",
    "y_pred1 = clf.predict(X_test)\n",
    "\n",
    "\n",
    "from sklearn.tree import DecisionTreeClassifier\n",
    "clf1= DecisionTreeClassifier()\n",
    "clf1 = clf1.fit(X_train,y_train.astype('int'))\n",
    "y_pred2= clf1.predict(X_test)"
   ]
  },
  {
   "cell_type": "code",
   "execution_count": 6,
   "metadata": {},
   "outputs": [],
   "source": [
    "\"\"\"\n",
    "5. 請以 R2 (coefficient of determination)*、RSME (root mean square error)、MAE\n",
    "(mean absolute error)評估/比較三個模型在訓練資料及測試資料上的表現\n",
    "\"\"\"\n",
    "from sklearn.metrics import r2_score\n",
    "linearRegression_r2=r2_score(y_test,y_pred)\n",
    "SVM_r2=r2_score(y_test,y_pred1)\n",
    "decisiontree_r2=r2_score(y_test,y_pred2)\n",
    "\n",
    "\n",
    "import numpy as np \n",
    "from sklearn.metrics import mean_squared_error\n",
    "linearRegression_RMSE=np.sqrt(mean_squared_error(y_test, y_pred))\n",
    "SVM_RMSE=np.sqrt(mean_squared_error(y_test, y_pred1))\n",
    "decisiontree_RMSE=np.sqrt(mean_squared_error(y_test, y_pred2))\n",
    "\n",
    "\n",
    "from sklearn.metrics import mean_absolute_error\n",
    "\n",
    "linearRegression_MAE=mean_absolute_error(y_test, y_pred)\n",
    "SVM_MAE=mean_absolute_error(y_test, y_pred1)\n",
    "decisiontree_MAE=mean_absolute_error(y_test, y_pred2)"
   ]
  },
  {
   "cell_type": "code",
   "execution_count": 7,
   "metadata": {},
   "outputs": [
    {
     "data": {
      "text/html": [
       "<div>\n",
       "<style scoped>\n",
       "    .dataframe tbody tr th:only-of-type {\n",
       "        vertical-align: middle;\n",
       "    }\n",
       "\n",
       "    .dataframe tbody tr th {\n",
       "        vertical-align: top;\n",
       "    }\n",
       "\n",
       "    .dataframe thead th {\n",
       "        text-align: right;\n",
       "    }\n",
       "</style>\n",
       "<table border=\"1\" class=\"dataframe\">\n",
       "  <thead>\n",
       "    <tr style=\"text-align: right;\">\n",
       "      <th></th>\n",
       "      <th>R2</th>\n",
       "      <th>RMSE</th>\n",
       "      <th>MAE</th>\n",
       "    </tr>\n",
       "  </thead>\n",
       "  <tbody>\n",
       "    <tr>\n",
       "      <th>Linear Regression</th>\n",
       "      <td>0.691859</td>\n",
       "      <td>6433.801942</td>\n",
       "      <td>4305.250971</td>\n",
       "    </tr>\n",
       "    <tr>\n",
       "      <th>SVM (SVR)</th>\n",
       "      <td>0.019196</td>\n",
       "      <td>11478.463605</td>\n",
       "      <td>5571.104247</td>\n",
       "    </tr>\n",
       "    <tr>\n",
       "      <th>Decision Tree</th>\n",
       "      <td>0.187109</td>\n",
       "      <td>10449.817746</td>\n",
       "      <td>5341.371240</td>\n",
       "    </tr>\n",
       "  </tbody>\n",
       "</table>\n",
       "</div>"
      ],
      "text/plain": [
       "                         R2          RMSE          MAE\n",
       "Linear Regression  0.691859   6433.801942  4305.250971\n",
       "SVM (SVR)          0.019196  11478.463605  5571.104247\n",
       "Decision Tree      0.187109  10449.817746  5341.371240"
      ]
     },
     "execution_count": 7,
     "metadata": {},
     "output_type": "execute_result"
    }
   ],
   "source": [
    "\n",
    "allaccuracy={\n",
    "    'R2':[linearRegression_r2,SVM_r2,decisiontree_r2],\n",
    "    'RMSE':[linearRegression_RMSE,SVM_RMSE,decisiontree_RMSE],\n",
    "    'MAE':[linearRegression_MAE,SVM_MAE,decisiontree_MAE]\n",
    "}\n",
    "df = pd.DataFrame(allaccuracy)\n",
    "df.index = [\"Linear Regression\", \"SVM (SVR)\", \"Decision Tree\"]\n",
    "df\n"
   ]
  },
  {
   "cell_type": "code",
   "execution_count": null,
   "metadata": {},
   "outputs": [],
   "source": []
  }
 ],
 "metadata": {
  "kernelspec": {
   "display_name": "Python 3",
   "language": "python",
   "name": "python3"
  },
  "language_info": {
   "codemirror_mode": {
    "name": "ipython",
    "version": 3
   },
   "file_extension": ".py",
   "mimetype": "text/x-python",
   "name": "python",
   "nbconvert_exporter": "python",
   "pygments_lexer": "ipython3",
   "version": "3.7.3"
  }
 },
 "nbformat": 4,
 "nbformat_minor": 2
}
