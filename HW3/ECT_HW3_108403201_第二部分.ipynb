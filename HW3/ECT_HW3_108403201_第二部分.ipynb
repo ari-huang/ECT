{
 "cells": [
  {
   "cell_type": "code",
   "execution_count": 1,
   "metadata": {},
   "outputs": [],
   "source": [
    "import pandas as pd\n",
    "customer_churn = pd.read_csv(\"customer_churn.csv\")\n",
    "data = pd.DataFrame(customer_churn)\n"
   ]
  },
  {
   "cell_type": "code",
   "execution_count": 2,
   "metadata": {},
   "outputs": [
    {
     "name": "stdout",
     "output_type": "stream",
     "text": [
      "<class 'pandas.core.frame.DataFrame'>\n",
      "RangeIndex: 3083 entries, 0 to 3082\n",
      "Data columns (total 20 columns):\n",
      "CustomerID                     3083 non-null int64\n",
      "Churn                          3083 non-null int64\n",
      "Tenure                         2930 non-null float64\n",
      "PreferredLoginDevice           3083 non-null object\n",
      "CityTier                       3083 non-null int64\n",
      "WarehouseToHome                2929 non-null float64\n",
      "PreferredPaymentMode           3083 non-null object\n",
      "Gender                         3083 non-null object\n",
      "HourSpendOnApp                 2933 non-null float64\n",
      "NumberOfDeviceRegistered       3083 non-null int64\n",
      "PreferedOrderCat               3083 non-null object\n",
      "SatisfactionScore              3083 non-null int64\n",
      "MaritalStatus                  3083 non-null object\n",
      "NumberOfAddress                3083 non-null int64\n",
      "Complain                       3083 non-null int64\n",
      "OrderAmountHikeFromlastYear    2952 non-null float64\n",
      "CouponUsed                     2957 non-null float64\n",
      "OrderCount                     2955 non-null float64\n",
      "DaySinceLastOrder              2917 non-null float64\n",
      "CashbackAmount                 3083 non-null int64\n",
      "dtypes: float64(7), int64(8), object(5)\n",
      "memory usage: 481.8+ KB\n"
     ]
    }
   ],
   "source": [
    "#2.列出資料筆數、屬性數量、每個欄位的空值個數以及各類別(target)的資料筆數\n",
    "\n",
    "data.info()\n"
   ]
  },
  {
   "cell_type": "code",
   "execution_count": 3,
   "metadata": {},
   "outputs": [
    {
     "name": "stdout",
     "output_type": "stream",
     "text": [
      "--------各欄位空值---------\n",
      "CustomerID                       0\n",
      "Churn                            0\n",
      "Tenure                         153\n",
      "PreferredLoginDevice             0\n",
      "CityTier                         0\n",
      "WarehouseToHome                154\n",
      "PreferredPaymentMode             0\n",
      "Gender                           0\n",
      "HourSpendOnApp                 150\n",
      "NumberOfDeviceRegistered         0\n",
      "PreferedOrderCat                 0\n",
      "SatisfactionScore                0\n",
      "MaritalStatus                    0\n",
      "NumberOfAddress                  0\n",
      "Complain                         0\n",
      "OrderAmountHikeFromlastYear    131\n",
      "CouponUsed                     126\n",
      "OrderCount                     128\n",
      "DaySinceLastOrder              166\n",
      "CashbackAmount                   0\n",
      "dtype: int64\n"
     ]
    }
   ],
   "source": [
    "sum =  data.isna().sum()\n",
    "print(\"--------各欄位空值---------\")\n",
    "print(sum)"
   ]
  },
  {
   "cell_type": "code",
   "execution_count": 4,
   "metadata": {},
   "outputs": [
    {
     "data": {
      "text/plain": [
       "3078"
      ]
     },
     "execution_count": 4,
     "metadata": {},
     "output_type": "execute_result"
    }
   ],
   "source": [
    "\"\"\"\n",
    "3.資料集中有部分資料重覆出現，請刪除重覆多餘的資料 (僅保留一筆)，並列出剩\n",
    "餘的資料筆數\n",
    "\"\"\"\n",
    "data.drop_duplicates(inplace=True)\n",
    "len(data.index)"
   ]
  },
  {
   "cell_type": "code",
   "execution_count": 5,
   "metadata": {},
   "outputs": [],
   "source": [
    "#4. 填補空值及其他資料前處理 (e.g., feature encoding) \n",
    "data[\"Tenure\"]=data['Tenure'].fillna(data['Tenure'].mean())\n",
    "data['WarehouseToHome']=data['WarehouseToHome'].fillna(data['WarehouseToHome'].mean())\n",
    "data['HourSpendOnApp']=data['HourSpendOnApp'].fillna(data['HourSpendOnApp'].mode()[0])\n",
    "data['OrderAmountHikeFromlastYear']=data['OrderAmountHikeFromlastYear'].fillna(data['OrderAmountHikeFromlastYear'].mean())\n",
    "data['CouponUsed']=data['CouponUsed'].fillna(method='pad')\n",
    "data['OrderCount']=data['OrderCount'].fillna(method='pad')\n",
    "data['DaySinceLastOrder']=data['DaySinceLastOrder'].fillna(method='pad')"
   ]
  },
  {
   "cell_type": "code",
   "execution_count": 6,
   "metadata": {},
   "outputs": [],
   "source": [
    "#4. 填補空值及其他資料前處理 (e.g., feature encoding) \n",
    "\n",
    "from sklearn.preprocessing import LabelEncoder\n",
    "labelencoder = LabelEncoder()\n",
    "data['PreferredLoginDevice'] = labelencoder.fit_transform(data['PreferredLoginDevice'])\n",
    "data['PreferredPaymentMode'] = labelencoder.fit_transform(data['PreferredPaymentMode'])\n",
    "data['Gender'] = labelencoder.fit_transform(data['Gender'])\n",
    "data['PreferedOrderCat'] = labelencoder.fit_transform(data['PreferedOrderCat'])\n",
    "data['MaritalStatus'] = labelencoder.fit_transform(data['MaritalStatus'])\n",
    "\n"
   ]
  },
  {
   "cell_type": "code",
   "execution_count": 7,
   "metadata": {
    "scrolled": true
   },
   "outputs": [],
   "source": [
    "#5. 將資料集劃分為訓練集與測試集\n",
    "\n",
    "from sklearn.model_selection import train_test_split,cross_val_score\n",
    "from sklearn.metrics import accuracy_score \n",
    "\n",
    "X=data.drop(['Churn'], axis=1)\n",
    "y=data['Churn']\n",
    "\n",
    "X_train, X_test, y_train, y_test = train_test_split(X,y, test_size= 0.25,random_state=12)\n"
   ]
  },
  {
   "cell_type": "code",
   "execution_count": 10,
   "metadata": {},
   "outputs": [
    {
     "name": "stderr",
     "output_type": "stream",
     "text": [
      "C:\\Users\\user\\Anaconda3\\lib\\site-packages\\sklearn\\linear_model\\logistic.py:432: FutureWarning: Default solver will be changed to 'lbfgs' in 0.22. Specify a solver to silence this warning.\n",
      "  FutureWarning)\n"
     ]
    }
   ],
   "source": [
    "#6. 訓練與測試 SVM、Logistic Regression、Decision Tree 模型\n",
    "from sklearn import svm\n",
    "clf = svm.SVC(kernel='linear',C = 10) \n",
    "clf.fit(X_train, y_train.astype('int')) \n",
    "y_pred = clf.predict(X_test)\n",
    "svm_accuracy=accuracy_score(y_test,y_pred)\n",
    "\n",
    "from sklearn.linear_model import LogisticRegression\n",
    "clf1=LogisticRegression(fit_intercept=True,C=1.0,penalty='l1')\n",
    "clf1.fit(X_train,y_train.astype('int'))\n",
    "y_pred1=clf1.predict(X_test)\n",
    "logistic_accuracy=accuracy_score(y_test,y_pred1)   \n",
    "\n",
    "\n",
    "from sklearn.tree import DecisionTreeClassifier\n",
    "clf2= DecisionTreeClassifier(criterion='entropy')\n",
    "clf2 = clf2.fit(X_train,y_train.astype('int'))\n",
    "y_pred2= clf1.predict(X_test)\n",
    "\n",
    "decision_accuracy=accuracy_score(y_test,y_pred2)   \n"
   ]
  },
  {
   "cell_type": "code",
   "execution_count": 12,
   "metadata": {},
   "outputs": [
    {
     "name": "stderr",
     "output_type": "stream",
     "text": [
      "C:\\Users\\user\\Anaconda3\\lib\\site-packages\\sklearn\\svm\\base.py:193: FutureWarning: The default value of gamma will change from 'auto' to 'scale' in version 0.22 to account better for unscaled features. Set gamma explicitly to 'auto' or 'scale' to avoid this warning.\n",
      "  \"avoid this warning.\", FutureWarning)\n"
     ]
    },
    {
     "data": {
      "text/html": [
       "<div>\n",
       "<style scoped>\n",
       "    .dataframe tbody tr th:only-of-type {\n",
       "        vertical-align: middle;\n",
       "    }\n",
       "\n",
       "    .dataframe tbody tr th {\n",
       "        vertical-align: top;\n",
       "    }\n",
       "\n",
       "    .dataframe thead th {\n",
       "        text-align: right;\n",
       "    }\n",
       "</style>\n",
       "<table border=\"1\" class=\"dataframe\">\n",
       "  <thead>\n",
       "    <tr style=\"text-align: right;\">\n",
       "      <th></th>\n",
       "      <th>kernel=\"linear\"</th>\n",
       "      <th>kernel=\"rbf\"</th>\n",
       "    </tr>\n",
       "  </thead>\n",
       "  <tbody>\n",
       "    <tr>\n",
       "      <th>accuracy</th>\n",
       "      <td>0.805195</td>\n",
       "      <td>0.684416</td>\n",
       "    </tr>\n",
       "  </tbody>\n",
       "</table>\n",
       "</div>"
      ],
      "text/plain": [
       "          kernel=\"linear\"  kernel=\"rbf\"\n",
       "accuracy         0.805195      0.684416"
      ]
     },
     "execution_count": 12,
     "metadata": {},
     "output_type": "execute_result"
    }
   ],
   "source": [
    "\"\"\"\n",
    "7. 請以 Accuracy 評估同一模型在不同超參數設定下於訓練資料及測試資料上的表現\n",
    "比較SVM模型在不同kernel(rbf、linear)下的accuracy\n",
    "\"\"\"\n",
    "clf3 = svm.SVC(kernel='rbf',C = 10) \n",
    "clf3.fit(X_train, y_train.astype('int')) \n",
    "y_pred3 = clf3.predict(X_test)\n",
    "\n",
    "svm_accuracy1=accuracy_score(y_test,y_pred3)   \n",
    "\n",
    "\n",
    "svmtwoallaccuracy={\n",
    "    'kernel=\"linear\"':[svm_accuracy],\n",
    "    'kernel=\"rbf\"':[svm_accuracy1],\n",
    "\n",
    "}\n",
    "df = pd.DataFrame(svmtwoallaccuracy)\n",
    "df.index = [\"accuracy\"]\n",
    "df"
   ]
  },
  {
   "cell_type": "code",
   "execution_count": 14,
   "metadata": {},
   "outputs": [
    {
     "name": "stderr",
     "output_type": "stream",
     "text": [
      "C:\\Users\\user\\Anaconda3\\lib\\site-packages\\sklearn\\linear_model\\logistic.py:432: FutureWarning: Default solver will be changed to 'lbfgs' in 0.22. Specify a solver to silence this warning.\n",
      "  FutureWarning)\n"
     ]
    },
    {
     "data": {
      "text/html": [
       "<div>\n",
       "<style scoped>\n",
       "    .dataframe tbody tr th:only-of-type {\n",
       "        vertical-align: middle;\n",
       "    }\n",
       "\n",
       "    .dataframe tbody tr th {\n",
       "        vertical-align: top;\n",
       "    }\n",
       "\n",
       "    .dataframe thead th {\n",
       "        text-align: right;\n",
       "    }\n",
       "</style>\n",
       "<table border=\"1\" class=\"dataframe\">\n",
       "  <thead>\n",
       "    <tr style=\"text-align: right;\">\n",
       "      <th></th>\n",
       "      <th>penalty=\"l1\"</th>\n",
       "      <th>penalty=\"l2\"</th>\n",
       "    </tr>\n",
       "  </thead>\n",
       "  <tbody>\n",
       "    <tr>\n",
       "      <th>accuracy</th>\n",
       "      <td>0.833766</td>\n",
       "      <td>0.803896</td>\n",
       "    </tr>\n",
       "  </tbody>\n",
       "</table>\n",
       "</div>"
      ],
      "text/plain": [
       "          penalty=\"l1\"  penalty=\"l2\"\n",
       "accuracy      0.833766      0.803896"
      ]
     },
     "execution_count": 14,
     "metadata": {},
     "output_type": "execute_result"
    }
   ],
   "source": [
    "\"\"\"\n",
    "7. 請以 Accuracy 評估同一模型在不同超參數設定下於訓練資料及測試資料上的表現\n",
    "比較LogisticRegression模型在不同penalty(l1、l2)下的accuracy\n",
    "\"\"\"\n",
    "clf4=LogisticRegression(penalty='l2')\n",
    "clf4.fit(X_train,y_train.astype('int'))\n",
    "y_pred4=clf4.predict(X_test)\n",
    "logistic_accuracy1=accuracy_score(y_test,y_pred4)   \n",
    "\n",
    "\n",
    "logistictwoallaccuracy={\n",
    "    'penalty=\"l1\"':[logistic_accuracy],\n",
    "    'penalty=\"l2\"':[logistic_accuracy1],\n",
    "\n",
    "}\n",
    "df = pd.DataFrame(logistictwoallaccuracy)\n",
    "df.index = [\"accuracy\" ]\n",
    "df"
   ]
  },
  {
   "cell_type": "code",
   "execution_count": 15,
   "metadata": {},
   "outputs": [
    {
     "data": {
      "text/html": [
       "<div>\n",
       "<style scoped>\n",
       "    .dataframe tbody tr th:only-of-type {\n",
       "        vertical-align: middle;\n",
       "    }\n",
       "\n",
       "    .dataframe tbody tr th {\n",
       "        vertical-align: top;\n",
       "    }\n",
       "\n",
       "    .dataframe thead th {\n",
       "        text-align: right;\n",
       "    }\n",
       "</style>\n",
       "<table border=\"1\" class=\"dataframe\">\n",
       "  <thead>\n",
       "    <tr style=\"text-align: right;\">\n",
       "      <th></th>\n",
       "      <th>criterion=\"entropy\"</th>\n",
       "      <th>criterion=\"gini\"</th>\n",
       "    </tr>\n",
       "  </thead>\n",
       "  <tbody>\n",
       "    <tr>\n",
       "      <th>accuracy</th>\n",
       "      <td>0.833766</td>\n",
       "      <td>0.884416</td>\n",
       "    </tr>\n",
       "  </tbody>\n",
       "</table>\n",
       "</div>"
      ],
      "text/plain": [
       "          criterion=\"entropy\"  criterion=\"gini\"\n",
       "accuracy             0.833766          0.884416"
      ]
     },
     "execution_count": 15,
     "metadata": {},
     "output_type": "execute_result"
    }
   ],
   "source": [
    "\"\"\"\n",
    "7. 請以 Accuracy 評估同一模型在不同超參數設定下於訓練資料及測試資料上的表現\n",
    "比較decisiontree模型在不同criterion(gini、int)下的accuracy\n",
    "\"\"\"\n",
    "clf5= DecisionTreeClassifier(criterion='gini')\n",
    "clf5 = clf5.fit(X_train,y_train.astype('int'))\n",
    "y_pred5= clf5.predict(X_test)\n",
    "\n",
    "decision_accuracy1=accuracy_score(y_test,y_pred5)   \n",
    "\n",
    "\n",
    "decisiontwoallaccuracy={\n",
    "    'criterion=\"entropy\"':[decision_accuracy],\n",
    "    'criterion=\"gini\"':[decision_accuracy1]\n",
    "\n",
    "}\n",
    "df = pd.DataFrame(decisiontwoallaccuracy)\n",
    "df.index = [\"accuracy\" ]\n",
    "df"
   ]
  },
  {
   "cell_type": "code",
   "execution_count": 16,
   "metadata": {},
   "outputs": [
    {
     "data": {
      "text/html": [
       "<div>\n",
       "<style scoped>\n",
       "    .dataframe tbody tr th:only-of-type {\n",
       "        vertical-align: middle;\n",
       "    }\n",
       "\n",
       "    .dataframe tbody tr th {\n",
       "        vertical-align: top;\n",
       "    }\n",
       "\n",
       "    .dataframe thead th {\n",
       "        text-align: right;\n",
       "    }\n",
       "</style>\n",
       "<table border=\"1\" class=\"dataframe\">\n",
       "  <thead>\n",
       "    <tr style=\"text-align: right;\">\n",
       "      <th></th>\n",
       "      <th>accuracy</th>\n",
       "    </tr>\n",
       "  </thead>\n",
       "  <tbody>\n",
       "    <tr>\n",
       "      <th>svm_accuracy</th>\n",
       "      <td>0.805195</td>\n",
       "    </tr>\n",
       "    <tr>\n",
       "      <th>logisticregression_accuracy</th>\n",
       "      <td>0.833766</td>\n",
       "    </tr>\n",
       "    <tr>\n",
       "      <th>decisiontree_accuracy</th>\n",
       "      <td>0.833766</td>\n",
       "    </tr>\n",
       "  </tbody>\n",
       "</table>\n",
       "</div>"
      ],
      "text/plain": [
       "                             accuracy\n",
       "svm_accuracy                 0.805195\n",
       "logisticregression_accuracy  0.833766\n",
       "decisiontree_accuracy        0.833766"
      ]
     },
     "execution_count": 16,
     "metadata": {},
     "output_type": "execute_result"
    }
   ],
   "source": [
    "#8. 請以 Accuracy 比較三個模型的表現 (6%)\n",
    "\n",
    "from sklearn.model_selection import cross_val_score\n",
    "from sklearn.metrics import confusion_matrix, accuracy_score, classification_report\n",
    "\n",
    "svm_accuracy = accuracy_score(y_test,y_pred)\n",
    "logisticregression_accuracy = accuracy_score(y_test,y_pred1)\n",
    "decisiontree_accuracy = accuracy_score(y_test, y_pred2)\n",
    "allaccuracy={\n",
    "    'accuracy':[svm_accuracy,logisticregression_accuracy,decisiontree_accuracy]\n",
    "   \n",
    "}\n",
    "df = pd.DataFrame(allaccuracy)\n",
    "df.index = [\"svm_accuracy\",\"logisticregression_accuracy\",\"decisiontree_accuracy\"]\n",
    "df"
   ]
  },
  {
   "cell_type": "code",
   "execution_count": 17,
   "metadata": {},
   "outputs": [
    {
     "name": "stdout",
     "output_type": "stream",
     "text": [
      "svm confusion matrix\n",
      "[[482  45]\n",
      " [ 83 160]]\n",
      "Logistic Regression confusion matrix\n",
      "[[482  45]\n",
      " [ 83 160]]\n",
      "Decision Tree confusion matrix\n",
      "[[491  36]\n",
      " [114 129]]\n"
     ]
    }
   ],
   "source": [
    "#9. 請列出三個模型的 Confusion matrix，並簡述其意義 \n",
    "\"\"\"\n",
    "左上角與右下角皆為預測對的數目\n",
    "右上角與坐下角為預測錯誤的數目\n",
    "準確率ACC:猜對的數目(TP+TN)/總數(TP+TN+FP+FN)\n",
    "\"\"\"\n",
    "print(\"svm confusion matrix\")\n",
    "print(confusion_matrix(y_test,y_pred1))\n",
    "\n",
    "\n",
    "print(\"Logistic Regression confusion matrix\")\n",
    "print(confusion_matrix(y_test,y_pred2))\n",
    "\n",
    "\n",
    "print(\"Decision Tree confusion matrix\")\n",
    "print(confusion_matrix(y_test,y_pred))\n"
   ]
  },
  {
   "cell_type": "code",
   "execution_count": null,
   "metadata": {},
   "outputs": [],
   "source": []
  },
  {
   "cell_type": "code",
   "execution_count": null,
   "metadata": {},
   "outputs": [],
   "source": []
  }
 ],
 "metadata": {
  "kernelspec": {
   "display_name": "Python 3",
   "language": "python",
   "name": "python3"
  },
  "language_info": {
   "codemirror_mode": {
    "name": "ipython",
    "version": 3
   },
   "file_extension": ".py",
   "mimetype": "text/x-python",
   "name": "python",
   "nbconvert_exporter": "python",
   "pygments_lexer": "ipython3",
   "version": "3.7.3"
  }
 },
 "nbformat": 4,
 "nbformat_minor": 2
}
